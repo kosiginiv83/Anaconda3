{
 "cells": [
  {
   "cell_type": "markdown",
   "metadata": {},
   "source": [
    "# Пример реализации функций map и reduce на языке python\n",
    "\n"
   ]
  },
  {
   "cell_type": "markdown",
   "metadata": {},
   "source": [
    "#### Пример задачи wordcount.\n",
    "Посчитаем частоты слов в песенке в лесу родилась елочка при помощи map-reduce"
   ]
  },
  {
   "cell_type": "code",
   "execution_count": 1,
   "metadata": {},
   "outputs": [],
   "source": [
    "text = \"\"\"\n",
    "В лесу родилась ёлочка,\n",
    "В лесу она росла.\n",
    "Зимой и летом стройная,\n",
    "Зелёная была.\n",
    "Метель ей пела песенку:\n",
    "Спи, ёлочка, бай-бай!\n",
    "Мороз снежком укутывал:\n",
    "Смотри, не замерзай!\n",
    "Трусишка зайка серенький\n",
    "Под ёлочкой скакал.\n",
    "Порою волк, сердитый волк,\n",
    "Рысцою пробегал.\n",
    "Чу! Снег по лесу частому\n",
    "Под полозом скрипит.\n",
    "Лошадка мохноногая\n",
    "Торопится, бежит.\n",
    "Везёт лошадка дровеньки,\n",
    "На дровнях мужичок.\n",
    "Срубил он нашу ёлочку\n",
    "Под самый корешок.\n",
    "Теперь ты здесь, нарядная,\n",
    "На праздник к нам пришла\n",
    "И много, много радости\n",
    "Детишкам принесла.\n",
    "\"\"\""
   ]
  },
  {
   "cell_type": "markdown",
   "metadata": {},
   "source": [
    "###### Служебная функция  для разбивки текста на строки и выделения в строках слов"
   ]
  },
  {
   "cell_type": "code",
   "execution_count": 2,
   "metadata": {},
   "outputs": [],
   "source": [
    "import re\n",
    "def generate_lines(text):\n",
    "    word_re = re.compile(r\"[а-яё]+\")\n",
    "    lines = text.strip().lower().split(\"\\n\")\n",
    "    result = []\n",
    "    for line in lines:\n",
    "        result.append(word_re.findall(line))\n",
    "    return result"
   ]
  },
  {
   "cell_type": "markdown",
   "metadata": {},
   "source": [
    "### Эмуляция hadoop"
   ]
  },
  {
   "cell_type": "markdown",
   "metadata": {},
   "source": [
    "###### !!! Внимание !!!\n",
    "Эта функция эмулирует запуск mapreduce. Она предназначена только для целей отладки и демонстрации парадигмы MapReduce. На реальных проектах работа этой функции будет заменена целым стеком программного обеспечения - hadoop."
   ]
  },
  {
   "cell_type": "code",
   "execution_count": 3,
   "metadata": {},
   "outputs": [],
   "source": [
    "from collections import defaultdict\n",
    "def run_mapreduce(input, map_fnc, reduce_fnc):\n",
    "    map_result = defaultdict(lambda: [])\n",
    "    for obj in input:\n",
    "        for key, value in map_fnc(obj):\n",
    "            map_result[key].append(value)\n",
    "    \n",
    "    reduce_result = []\n",
    "    for key in map_result:\n",
    "        for key, value in reduce_fnc(key, map_result[key]):\n",
    "            reduce_result.append((key, value))\n",
    "    return reduce_result"
   ]
  },
  {
   "cell_type": "markdown",
   "metadata": {},
   "source": [
    "#### Функции map и reduce для реализации word_count:"
   ]
  },
  {
   "cell_type": "code",
   "execution_count": 4,
   "metadata": {},
   "outputs": [],
   "source": [
    "def map_wordcount(line):\n",
    "    for word in line:\n",
    "        yield(word, 1)"
   ]
  },
  {
   "cell_type": "code",
   "execution_count": 5,
   "metadata": {},
   "outputs": [],
   "source": [
    "def reduce_wordcount(word, counts):\n",
    "    yield word, sum(counts)"
   ]
  },
  {
   "cell_type": "markdown",
   "metadata": {},
   "source": [
    "#### Запустим наш эмулятор mapreduce и распечатаем 10 самых популярных слов"
   ]
  },
  {
   "cell_type": "code",
   "execution_count": 6,
   "metadata": {},
   "outputs": [
    {
     "name": "stdout",
     "output_type": "stream",
     "text": [
      "лесу 3\n",
      "под 3\n",
      "в 2\n",
      "ёлочка 2\n",
      "и 2\n",
      "бай 2\n",
      "волк 2\n",
      "лошадка 2\n",
      "на 2\n",
      "много 2\n"
     ]
    }
   ],
   "source": [
    "lines = generate_lines(text)\n",
    "result = run_mapreduce(lines, map_wordcount, reduce_wordcount)\n",
    "\n",
    "for key, value in sorted(result, key=lambda x: -x[1])[:10]:\n",
    "    print(key, value)"
   ]
  },
  {
   "cell_type": "markdown",
   "metadata": {},
   "source": [
    "# Домашнее задание"
   ]
  },
  {
   "cell_type": "markdown",
   "metadata": {},
   "source": [
    "Проанализировать 1-й том произведения Л.Толстого \"Война и Мир\" при помощи mapreduce."
   ]
  },
  {
   "cell_type": "markdown",
   "metadata": {},
   "source": [
    "##### прочитаем текст"
   ]
  },
  {
   "cell_type": "code",
   "execution_count": null,
   "metadata": {
    "collapsed": true
   },
   "outputs": [],
   "source": [
    "with open('war_peace_1.txt', 'rb') as f:\n",
    "    text = f.read().decode()\n",
    "print(text[:80])"
   ]
  },
  {
   "cell_type": "markdown",
   "metadata": {},
   "source": [
    "#### Задание №1\n",
    "Найти частоты 5 самых популярных слов в тексте"
   ]
  },
  {
   "cell_type": "code",
   "execution_count": null,
   "metadata": {
    "collapsed": true
   },
   "outputs": [],
   "source": [
    "lines = ...\n",
    "result = ...\n",
    "for key, value in ...:\n",
    "    print(key, value)"
   ]
  },
  {
   "cell_type": "markdown",
   "metadata": {},
   "source": [
    "#### Задание №2\n",
    "Найти сколько раз в тексте упоминаются фамилии безухов, ростова, болконский\n",
    "\n",
    "Подсказка: необходимо модифицировать функцию map_wordcount для того чтобы она учитывала только нужные нам слова.\n",
    "\n",
    "###### Пример:"
   ]
  },
  {
   "cell_type": "code",
   "execution_count": null,
   "metadata": {
    "collapsed": true
   },
   "outputs": [],
   "source": [
    "leave_only = ['таня', 'мячик']\n",
    "sample_text = ['наша', 'таня', 'громко', 'плачет', 'уронила','в', 'речку', 'мячик']\n",
    "\n",
    "for word in sample_text:\n",
    "    if word in leave_only:\n",
    "        print(word, 1)\n",
    "    "
   ]
  },
  {
   "cell_type": "code",
   "execution_count": null,
   "metadata": {
    "collapsed": true
   },
   "outputs": [],
   "source": [
    "second_names = ['безухов', ...]\n",
    "\n",
    "def map_wordcount_filter(line):\n",
    "    for word in line:\n",
    "        if word in ...:\n",
    "            yield(word, 1)\n",
    "\n",
    "lines = ...\n",
    "result = result = run_mapreduce(lines, map_wordcount_filter, ...)\n",
    "for key, value in sorted( ...\n"
   ]
  },
  {
   "cell_type": "markdown",
   "metadata": {},
   "source": [
    "#### Задание №3 (по желанию)"
   ]
  },
  {
   "cell_type": "markdown",
   "metadata": {},
   "source": [
    "Это задание стоит выполнять только если у вас уже был опыт программирования на python. \n",
    "\n",
    "\n",
    "1) прочитать статью \"закон ципфа\" на wikipedia\n",
    "https://ru.wikipedia.org/wiki/%D0%97%D0%B0%D0%BA%D0%BE%D0%BD_%D0%A6%D0%B8%D0%BF%D1%84%D0%B0\n",
    "    \n",
    "2) Построить график распределения частот слов в 1-м томе \"войны и мир\" аналогичный приведенному в статье.\n",
    "Для визуализации графика воспользоваться библиотекой matplotlib"
   ]
  },
  {
   "cell_type": "code",
   "execution_count": null,
   "metadata": {
    "collapsed": true
   },
   "outputs": [],
   "source": []
  }
 ],
 "metadata": {
  "kernelspec": {
   "display_name": "Python 3",
   "language": "python",
   "name": "python3"
  },
  "language_info": {
   "codemirror_mode": {
    "name": "ipython",
    "version": 3
   },
   "file_extension": ".py",
   "mimetype": "text/x-python",
   "name": "python",
   "nbconvert_exporter": "python",
   "pygments_lexer": "ipython3",
   "version": "3.6.3"
  }
 },
 "nbformat": 4,
 "nbformat_minor": 2
}
