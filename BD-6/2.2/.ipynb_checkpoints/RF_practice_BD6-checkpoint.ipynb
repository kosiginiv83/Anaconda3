{
 "cells": [
  {
   "cell_type": "markdown",
   "metadata": {
    "raw_mimetype": "text/latex"
   },
   "source": [
    "## Знакомство с машинным обучением\n",
    "\n",
    "В представленной практической работе разобран пример использования модели Random Forest и рассмотренны простые методы регуляризации. \n",
    "\n",
    "Лео Брейман нашел применение бутстрэпу не только в статистике, но и в машинном обучении. Он вместе с Адель Катлер усовершенстовал алгоритм случайного леса, который был предложенный Хо, добавив к первоначальному варианту построение некоррелируемых деревьев на основе CART, в сочетании с методом случайных подпространств и бэггинга.\n",
    "\n",
    "Решающие деревья являются хорошим семейством базовых классификаторов для бэггинга, поскольку они достаточно сложны и могут достигать нулевой ошибки на любой выборке. Метод случайных подпространств позволяет снизить коррелированность между деревьями и избежать переобучения. Базовые алгоритмы обучаются на различных подмножествах признакового описания, которые также выделяются случайным образом. "
   ]
  },
  {
   "cell_type": "markdown",
   "metadata": {
    "raw_mimetype": "text/latex"
   },
   "source": [
    "\n",
    "Алгоритм построения случайного леса, состоящего из $\\large N$ деревьев, выглядит следующим образом:\n",
    "  - Для каждого $\\large n = 1, \\dots, N$: \n",
    "    - Сгенерировать выборку $\\large X_n$ с помощью bootstrap. \n",
    "    - Построить решающее дерево $\\large b_n$ по выборке $\\large X_n$: — по заданному критерию мы выбираем лучший признак, делаем разбиение в дереве по нему и так до исчерпания выборки — дерево строится, пока в каждом листе не более $\\large n_\\text{min}$ объектов или пока не достигнем определенной высоты дерева — при каждом разбиении сначала выбирается $\\large m$ случайных признаков из $\\large n$ исходных, и оптимальное разделение выборки ищется только среди них. \n",
    "        \n",
    "Итоговый классификатор $\\large a(x) = \\frac{1}{N}\\sum_{i = 1}^N b_i(x)$, простыми словами — для задачи кассификации мы выбираем решение голосованием по большинству, а в задаче регрессии — средним."
   ]
  },
  {
   "cell_type": "markdown",
   "metadata": {},
   "source": [
    "# Определения положения человека через смартфон\n",
    "\n",
    "Воспользуемся данными [Human Activity Recognition database](https://www.kaggle.com/uciml/human-activity-recognition-with-smartphones)\n",
    "\n",
    "### Описание эксперимента:\n",
    "\n",
    "Эксперимент проводился на группе из 30 добровольцев в возрасте от 19 до 48 лет. Каждый из добровольцев находился в одном из стостояний (Хотьба, Подъем по лестнице, Спуск по лестнице, Сидение, Стояние, Лежание) со смартфоном (Samsung Galaxy S II) на талии. Используя встроенный акселерометр и гироскоп, были полученны данные о линейном ускорении и угловой скорости в 3-х осях на характерной частоте 50 Гц. Данные были предобработанны с применением фильтров по уменьшению шума и сглаживания в окне 2,56 с. Важно отметить, что данные были разделены на показания исследуемого тела и показания гравитационных сил, флуктуации которых предполагались на низких частотах (до 0,3 Гц). Для каждого окна был сформирован вектор признаков, который насчитывает 561 компоненту. \n",
    "\n",
    "Davide Anguita, Alessandro Ghio, Luca Oneto, Xavier Parra and Jorge L. Reyes-Ortiz. A Public Domain Dataset for Human Activity Recognition Using Smartphones. 21st European Symposium on Artificial Neural Networks, Computational Intelligence and Machine Learning, ESANN 2013. Bruges, Belgium 24-26 April 2013\n"
   ]
  },
  {
   "cell_type": "code",
   "execution_count": 2,
   "metadata": {
    "scrolled": true
   },
   "outputs": [
    {
     "name": "stderr",
     "output_type": "stream",
     "text": [
      "C:\\Anaconda_pf\\lib\\site-packages\\sklearn\\cross_validation.py:41: DeprecationWarning: This module was deprecated in version 0.18 in favor of the model_selection module into which all the refactored classes and functions are moved. Also note that the interface of the new CV iterators are different from that of this module. This module will be removed in 0.20.\n",
      "  \"This module will be removed in 0.20.\", DeprecationWarning)\n"
     ]
    }
   ],
   "source": [
    "import numpy as np\n",
    "import pandas as pd\n",
    "import sklearn.preprocessing\n",
    "import sklearn.ensemble\n",
    "import sklearn.cross_validation\n",
    "import sklearn.model_selection\n",
    "\n",
    "data = pd.read_csv('train.csv', sep=',')\n",
    "X = data.loc[:,data.columns[:-2]]\n",
    "state = data.loc[:, 'Activity']\n",
    "seed = 2017"
   ]
  },
  {
   "cell_type": "code",
   "execution_count": 3,
   "metadata": {},
   "outputs": [
    {
     "data": {
      "text/html": [
       "<div>\n",
       "<style>\n",
       "    .dataframe thead tr:only-child th {\n",
       "        text-align: right;\n",
       "    }\n",
       "\n",
       "    .dataframe thead th {\n",
       "        text-align: left;\n",
       "    }\n",
       "\n",
       "    .dataframe tbody tr th {\n",
       "        vertical-align: top;\n",
       "    }\n",
       "</style>\n",
       "<table border=\"1\" class=\"dataframe\">\n",
       "  <thead>\n",
       "    <tr style=\"text-align: right;\">\n",
       "      <th></th>\n",
       "      <th>tBodyAcc-mean()-X</th>\n",
       "      <th>tBodyAcc-mean()-Y</th>\n",
       "      <th>tBodyAcc-mean()-Z</th>\n",
       "      <th>tBodyAcc-std()-X</th>\n",
       "      <th>tBodyAcc-std()-Y</th>\n",
       "      <th>tBodyAcc-std()-Z</th>\n",
       "      <th>tBodyAcc-mad()-X</th>\n",
       "      <th>tBodyAcc-mad()-Y</th>\n",
       "      <th>tBodyAcc-mad()-Z</th>\n",
       "      <th>tBodyAcc-max()-X</th>\n",
       "      <th>...</th>\n",
       "      <th>fBodyBodyGyroJerkMag-kurtosis()</th>\n",
       "      <th>angle(tBodyAccMean,gravity)</th>\n",
       "      <th>angle(tBodyAccJerkMean),gravityMean)</th>\n",
       "      <th>angle(tBodyGyroMean,gravityMean)</th>\n",
       "      <th>angle(tBodyGyroJerkMean,gravityMean)</th>\n",
       "      <th>angle(X,gravityMean)</th>\n",
       "      <th>angle(Y,gravityMean)</th>\n",
       "      <th>angle(Z,gravityMean)</th>\n",
       "      <th>subject</th>\n",
       "      <th>Activity</th>\n",
       "    </tr>\n",
       "  </thead>\n",
       "  <tbody>\n",
       "    <tr>\n",
       "      <th>0</th>\n",
       "      <td>0.288585</td>\n",
       "      <td>-0.020294</td>\n",
       "      <td>-0.132905</td>\n",
       "      <td>-0.995279</td>\n",
       "      <td>-0.983111</td>\n",
       "      <td>-0.913526</td>\n",
       "      <td>-0.995112</td>\n",
       "      <td>-0.983185</td>\n",
       "      <td>-0.923527</td>\n",
       "      <td>-0.934724</td>\n",
       "      <td>...</td>\n",
       "      <td>-0.710304</td>\n",
       "      <td>-0.112754</td>\n",
       "      <td>0.030400</td>\n",
       "      <td>-0.464761</td>\n",
       "      <td>-0.018446</td>\n",
       "      <td>-0.841247</td>\n",
       "      <td>0.179941</td>\n",
       "      <td>-0.058627</td>\n",
       "      <td>1</td>\n",
       "      <td>STANDING</td>\n",
       "    </tr>\n",
       "    <tr>\n",
       "      <th>1</th>\n",
       "      <td>0.278419</td>\n",
       "      <td>-0.016411</td>\n",
       "      <td>-0.123520</td>\n",
       "      <td>-0.998245</td>\n",
       "      <td>-0.975300</td>\n",
       "      <td>-0.960322</td>\n",
       "      <td>-0.998807</td>\n",
       "      <td>-0.974914</td>\n",
       "      <td>-0.957686</td>\n",
       "      <td>-0.943068</td>\n",
       "      <td>...</td>\n",
       "      <td>-0.861499</td>\n",
       "      <td>0.053477</td>\n",
       "      <td>-0.007435</td>\n",
       "      <td>-0.732626</td>\n",
       "      <td>0.703511</td>\n",
       "      <td>-0.844788</td>\n",
       "      <td>0.180289</td>\n",
       "      <td>-0.054317</td>\n",
       "      <td>1</td>\n",
       "      <td>STANDING</td>\n",
       "    </tr>\n",
       "    <tr>\n",
       "      <th>2</th>\n",
       "      <td>0.279653</td>\n",
       "      <td>-0.019467</td>\n",
       "      <td>-0.113462</td>\n",
       "      <td>-0.995380</td>\n",
       "      <td>-0.967187</td>\n",
       "      <td>-0.978944</td>\n",
       "      <td>-0.996520</td>\n",
       "      <td>-0.963668</td>\n",
       "      <td>-0.977469</td>\n",
       "      <td>-0.938692</td>\n",
       "      <td>...</td>\n",
       "      <td>-0.760104</td>\n",
       "      <td>-0.118559</td>\n",
       "      <td>0.177899</td>\n",
       "      <td>0.100699</td>\n",
       "      <td>0.808529</td>\n",
       "      <td>-0.848933</td>\n",
       "      <td>0.180637</td>\n",
       "      <td>-0.049118</td>\n",
       "      <td>1</td>\n",
       "      <td>STANDING</td>\n",
       "    </tr>\n",
       "    <tr>\n",
       "      <th>3</th>\n",
       "      <td>0.279174</td>\n",
       "      <td>-0.026201</td>\n",
       "      <td>-0.123283</td>\n",
       "      <td>-0.996091</td>\n",
       "      <td>-0.983403</td>\n",
       "      <td>-0.990675</td>\n",
       "      <td>-0.997099</td>\n",
       "      <td>-0.982750</td>\n",
       "      <td>-0.989302</td>\n",
       "      <td>-0.938692</td>\n",
       "      <td>...</td>\n",
       "      <td>-0.482845</td>\n",
       "      <td>-0.036788</td>\n",
       "      <td>-0.012892</td>\n",
       "      <td>0.640011</td>\n",
       "      <td>-0.485366</td>\n",
       "      <td>-0.848649</td>\n",
       "      <td>0.181935</td>\n",
       "      <td>-0.047663</td>\n",
       "      <td>1</td>\n",
       "      <td>STANDING</td>\n",
       "    </tr>\n",
       "    <tr>\n",
       "      <th>4</th>\n",
       "      <td>0.276629</td>\n",
       "      <td>-0.016570</td>\n",
       "      <td>-0.115362</td>\n",
       "      <td>-0.998139</td>\n",
       "      <td>-0.980817</td>\n",
       "      <td>-0.990482</td>\n",
       "      <td>-0.998321</td>\n",
       "      <td>-0.979672</td>\n",
       "      <td>-0.990441</td>\n",
       "      <td>-0.942469</td>\n",
       "      <td>...</td>\n",
       "      <td>-0.699205</td>\n",
       "      <td>0.123320</td>\n",
       "      <td>0.122542</td>\n",
       "      <td>0.693578</td>\n",
       "      <td>-0.615971</td>\n",
       "      <td>-0.847865</td>\n",
       "      <td>0.185151</td>\n",
       "      <td>-0.043892</td>\n",
       "      <td>1</td>\n",
       "      <td>STANDING</td>\n",
       "    </tr>\n",
       "    <tr>\n",
       "      <th>5</th>\n",
       "      <td>0.277199</td>\n",
       "      <td>-0.010098</td>\n",
       "      <td>-0.105137</td>\n",
       "      <td>-0.997335</td>\n",
       "      <td>-0.990487</td>\n",
       "      <td>-0.995420</td>\n",
       "      <td>-0.997627</td>\n",
       "      <td>-0.990218</td>\n",
       "      <td>-0.995549</td>\n",
       "      <td>-0.942469</td>\n",
       "      <td>...</td>\n",
       "      <td>-0.844619</td>\n",
       "      <td>0.082632</td>\n",
       "      <td>-0.143439</td>\n",
       "      <td>0.275041</td>\n",
       "      <td>-0.368224</td>\n",
       "      <td>-0.849632</td>\n",
       "      <td>0.184823</td>\n",
       "      <td>-0.042126</td>\n",
       "      <td>1</td>\n",
       "      <td>STANDING</td>\n",
       "    </tr>\n",
       "    <tr>\n",
       "      <th>6</th>\n",
       "      <td>0.279454</td>\n",
       "      <td>-0.019641</td>\n",
       "      <td>-0.110022</td>\n",
       "      <td>-0.996921</td>\n",
       "      <td>-0.967186</td>\n",
       "      <td>-0.983118</td>\n",
       "      <td>-0.997003</td>\n",
       "      <td>-0.966097</td>\n",
       "      <td>-0.983116</td>\n",
       "      <td>-0.940987</td>\n",
       "      <td>...</td>\n",
       "      <td>-0.564430</td>\n",
       "      <td>-0.212754</td>\n",
       "      <td>-0.230622</td>\n",
       "      <td>0.014637</td>\n",
       "      <td>-0.189512</td>\n",
       "      <td>-0.852150</td>\n",
       "      <td>0.182170</td>\n",
       "      <td>-0.043010</td>\n",
       "      <td>1</td>\n",
       "      <td>STANDING</td>\n",
       "    </tr>\n",
       "    <tr>\n",
       "      <th>7</th>\n",
       "      <td>0.277432</td>\n",
       "      <td>-0.030488</td>\n",
       "      <td>-0.125360</td>\n",
       "      <td>-0.996559</td>\n",
       "      <td>-0.966728</td>\n",
       "      <td>-0.981585</td>\n",
       "      <td>-0.996485</td>\n",
       "      <td>-0.966313</td>\n",
       "      <td>-0.982982</td>\n",
       "      <td>-0.940987</td>\n",
       "      <td>...</td>\n",
       "      <td>-0.421715</td>\n",
       "      <td>-0.020888</td>\n",
       "      <td>0.593996</td>\n",
       "      <td>-0.561871</td>\n",
       "      <td>0.467383</td>\n",
       "      <td>-0.851017</td>\n",
       "      <td>0.183779</td>\n",
       "      <td>-0.041976</td>\n",
       "      <td>1</td>\n",
       "      <td>STANDING</td>\n",
       "    </tr>\n",
       "    <tr>\n",
       "      <th>8</th>\n",
       "      <td>0.277293</td>\n",
       "      <td>-0.021751</td>\n",
       "      <td>-0.120751</td>\n",
       "      <td>-0.997328</td>\n",
       "      <td>-0.961245</td>\n",
       "      <td>-0.983672</td>\n",
       "      <td>-0.997596</td>\n",
       "      <td>-0.957236</td>\n",
       "      <td>-0.984379</td>\n",
       "      <td>-0.940598</td>\n",
       "      <td>...</td>\n",
       "      <td>-0.572995</td>\n",
       "      <td>0.012954</td>\n",
       "      <td>0.080936</td>\n",
       "      <td>-0.234313</td>\n",
       "      <td>0.117797</td>\n",
       "      <td>-0.847971</td>\n",
       "      <td>0.188982</td>\n",
       "      <td>-0.037364</td>\n",
       "      <td>1</td>\n",
       "      <td>STANDING</td>\n",
       "    </tr>\n",
       "    <tr>\n",
       "      <th>9</th>\n",
       "      <td>0.280586</td>\n",
       "      <td>-0.009960</td>\n",
       "      <td>-0.106065</td>\n",
       "      <td>-0.994803</td>\n",
       "      <td>-0.972758</td>\n",
       "      <td>-0.986244</td>\n",
       "      <td>-0.995405</td>\n",
       "      <td>-0.973663</td>\n",
       "      <td>-0.985642</td>\n",
       "      <td>-0.940028</td>\n",
       "      <td>...</td>\n",
       "      <td>0.140452</td>\n",
       "      <td>-0.020590</td>\n",
       "      <td>-0.127730</td>\n",
       "      <td>-0.482871</td>\n",
       "      <td>-0.070670</td>\n",
       "      <td>-0.848294</td>\n",
       "      <td>0.190310</td>\n",
       "      <td>-0.034417</td>\n",
       "      <td>1</td>\n",
       "      <td>STANDING</td>\n",
       "    </tr>\n",
       "  </tbody>\n",
       "</table>\n",
       "<p>10 rows × 563 columns</p>\n",
       "</div>"
      ],
      "text/plain": [
       "   tBodyAcc-mean()-X  tBodyAcc-mean()-Y  tBodyAcc-mean()-Z  tBodyAcc-std()-X  \\\n",
       "0           0.288585          -0.020294          -0.132905         -0.995279   \n",
       "1           0.278419          -0.016411          -0.123520         -0.998245   \n",
       "2           0.279653          -0.019467          -0.113462         -0.995380   \n",
       "3           0.279174          -0.026201          -0.123283         -0.996091   \n",
       "4           0.276629          -0.016570          -0.115362         -0.998139   \n",
       "5           0.277199          -0.010098          -0.105137         -0.997335   \n",
       "6           0.279454          -0.019641          -0.110022         -0.996921   \n",
       "7           0.277432          -0.030488          -0.125360         -0.996559   \n",
       "8           0.277293          -0.021751          -0.120751         -0.997328   \n",
       "9           0.280586          -0.009960          -0.106065         -0.994803   \n",
       "\n",
       "   tBodyAcc-std()-Y  tBodyAcc-std()-Z  tBodyAcc-mad()-X  tBodyAcc-mad()-Y  \\\n",
       "0         -0.983111         -0.913526         -0.995112         -0.983185   \n",
       "1         -0.975300         -0.960322         -0.998807         -0.974914   \n",
       "2         -0.967187         -0.978944         -0.996520         -0.963668   \n",
       "3         -0.983403         -0.990675         -0.997099         -0.982750   \n",
       "4         -0.980817         -0.990482         -0.998321         -0.979672   \n",
       "5         -0.990487         -0.995420         -0.997627         -0.990218   \n",
       "6         -0.967186         -0.983118         -0.997003         -0.966097   \n",
       "7         -0.966728         -0.981585         -0.996485         -0.966313   \n",
       "8         -0.961245         -0.983672         -0.997596         -0.957236   \n",
       "9         -0.972758         -0.986244         -0.995405         -0.973663   \n",
       "\n",
       "   tBodyAcc-mad()-Z  tBodyAcc-max()-X    ...     \\\n",
       "0         -0.923527         -0.934724    ...      \n",
       "1         -0.957686         -0.943068    ...      \n",
       "2         -0.977469         -0.938692    ...      \n",
       "3         -0.989302         -0.938692    ...      \n",
       "4         -0.990441         -0.942469    ...      \n",
       "5         -0.995549         -0.942469    ...      \n",
       "6         -0.983116         -0.940987    ...      \n",
       "7         -0.982982         -0.940987    ...      \n",
       "8         -0.984379         -0.940598    ...      \n",
       "9         -0.985642         -0.940028    ...      \n",
       "\n",
       "   fBodyBodyGyroJerkMag-kurtosis()  angle(tBodyAccMean,gravity)  \\\n",
       "0                        -0.710304                    -0.112754   \n",
       "1                        -0.861499                     0.053477   \n",
       "2                        -0.760104                    -0.118559   \n",
       "3                        -0.482845                    -0.036788   \n",
       "4                        -0.699205                     0.123320   \n",
       "5                        -0.844619                     0.082632   \n",
       "6                        -0.564430                    -0.212754   \n",
       "7                        -0.421715                    -0.020888   \n",
       "8                        -0.572995                     0.012954   \n",
       "9                         0.140452                    -0.020590   \n",
       "\n",
       "   angle(tBodyAccJerkMean),gravityMean)  angle(tBodyGyroMean,gravityMean)  \\\n",
       "0                              0.030400                         -0.464761   \n",
       "1                             -0.007435                         -0.732626   \n",
       "2                              0.177899                          0.100699   \n",
       "3                             -0.012892                          0.640011   \n",
       "4                              0.122542                          0.693578   \n",
       "5                             -0.143439                          0.275041   \n",
       "6                             -0.230622                          0.014637   \n",
       "7                              0.593996                         -0.561871   \n",
       "8                              0.080936                         -0.234313   \n",
       "9                             -0.127730                         -0.482871   \n",
       "\n",
       "   angle(tBodyGyroJerkMean,gravityMean)  angle(X,gravityMean)  \\\n",
       "0                             -0.018446             -0.841247   \n",
       "1                              0.703511             -0.844788   \n",
       "2                              0.808529             -0.848933   \n",
       "3                             -0.485366             -0.848649   \n",
       "4                             -0.615971             -0.847865   \n",
       "5                             -0.368224             -0.849632   \n",
       "6                             -0.189512             -0.852150   \n",
       "7                              0.467383             -0.851017   \n",
       "8                              0.117797             -0.847971   \n",
       "9                             -0.070670             -0.848294   \n",
       "\n",
       "   angle(Y,gravityMean)  angle(Z,gravityMean)  subject  Activity  \n",
       "0              0.179941             -0.058627        1  STANDING  \n",
       "1              0.180289             -0.054317        1  STANDING  \n",
       "2              0.180637             -0.049118        1  STANDING  \n",
       "3              0.181935             -0.047663        1  STANDING  \n",
       "4              0.185151             -0.043892        1  STANDING  \n",
       "5              0.184823             -0.042126        1  STANDING  \n",
       "6              0.182170             -0.043010        1  STANDING  \n",
       "7              0.183779             -0.041976        1  STANDING  \n",
       "8              0.188982             -0.037364        1  STANDING  \n",
       "9              0.190310             -0.034417        1  STANDING  \n",
       "\n",
       "[10 rows x 563 columns]"
      ]
     },
     "execution_count": 3,
     "metadata": {},
     "output_type": "execute_result"
    }
   ],
   "source": [
    "data.head(10)"
   ]
  },
  {
   "cell_type": "markdown",
   "metadata": {
    "raw_mimetype": "text/markdown"
   },
   "source": [
    "Посмотрим, как обозначены положения добровольцев в данных:"
   ]
  },
  {
   "cell_type": "code",
   "execution_count": 4,
   "metadata": {},
   "outputs": [
    {
     "data": {
      "text/plain": [
       "LAYING                1407\n",
       "STANDING              1374\n",
       "SITTING               1286\n",
       "WALKING               1226\n",
       "WALKING_UPSTAIRS      1073\n",
       "WALKING_DOWNSTAIRS     986\n",
       "Name: Activity, dtype: int64"
      ]
     },
     "execution_count": 4,
     "metadata": {},
     "output_type": "execute_result"
    }
   ],
   "source": [
    "state.value_counts()"
   ]
  },
  {
   "cell_type": "markdown",
   "metadata": {
    "raw_mimetype": "text/markdown"
   },
   "source": [
    "Перед нами задача многоклассовой классификации.  \n",
    "Для начала закодируем активности численными значениями."
   ]
  },
  {
   "cell_type": "code",
   "execution_count": 5,
   "metadata": {},
   "outputs": [],
   "source": [
    "le = sklearn.preprocessing.LabelEncoder()\n",
    "y = le.fit_transform(state)\n"
   ]
  },
  {
   "cell_type": "markdown",
   "metadata": {},
   "source": [
    "Далее разобьем выборку на тренировочную и валидационную."
   ]
  },
  {
   "cell_type": "code",
   "execution_count": 6,
   "metadata": {},
   "outputs": [],
   "source": [
    "train_x, test_x, train_y, test_y = \\\n",
    "    sklearn.cross_validation.train_test_split(X, y, train_size = 0.8, random_state=seed)"
   ]
  },
  {
   "cell_type": "markdown",
   "metadata": {
    "collapsed": true
   },
   "source": [
    "Попробуем применить метод RandomForest прямо \"из коробки\":"
   ]
  },
  {
   "cell_type": "code",
   "execution_count": 7,
   "metadata": {},
   "outputs": [
    {
     "data": {
      "text/plain": [
       "RandomForestClassifier(bootstrap=True, class_weight=None, criterion='gini',\n",
       "            max_depth=None, max_features='auto', max_leaf_nodes=None,\n",
       "            min_impurity_decrease=0.0, min_impurity_split=None,\n",
       "            min_samples_leaf=1, min_samples_split=2,\n",
       "            min_weight_fraction_leaf=0.0, n_estimators=10, n_jobs=-1,\n",
       "            oob_score=False, random_state=2017, verbose=0,\n",
       "            warm_start=False)"
      ]
     },
     "execution_count": 7,
     "metadata": {},
     "output_type": "execute_result"
    }
   ],
   "source": [
    "rfc = sklearn.ensemble.RandomForestClassifier(random_state=seed, n_jobs=-1)\n",
    "rfc.fit(train_x, train_y)\n"
   ]
  },
  {
   "cell_type": "markdown",
   "metadata": {
    "collapsed": true
   },
   "source": [
    "Построим матрицу несоответствий для результата применения обученной модели на тестовой выборке"
   ]
  },
  {
   "cell_type": "code",
   "execution_count": 8,
   "metadata": {},
   "outputs": [
    {
     "name": "stdout",
     "output_type": "stream",
     "text": [
      "[[286   0   0   0   0   0]\n",
      " [  0 241  16   0   0   0]\n",
      " [  0  13 256   0   0   0]\n",
      " [  0   0   0 240   3   2]\n",
      " [  0   0   0   6 197   7]\n",
      " [  0   0   0   2   1 201]]\n",
      "F-score: 0.9659657772536994\n",
      "                    precision    recall  f1-score   support\n",
      "\n",
      "            LAYING       1.00      1.00      1.00       286\n",
      "           SITTING       0.95      0.94      0.94       257\n",
      "          STANDING       0.94      0.95      0.95       269\n",
      "           WALKING       0.97      0.98      0.97       245\n",
      "WALKING_DOWNSTAIRS       0.98      0.94      0.96       210\n",
      "  WALKING_UPSTAIRS       0.96      0.99      0.97       204\n",
      "\n",
      "       avg / total       0.97      0.97      0.97      1471\n",
      "\n"
     ]
    }
   ],
   "source": [
    "y_predicted = rfc.predict_proba(test_x)\n",
    "print(sklearn.metrics.confusion_matrix(test_y, y_predicted.argmax(axis=1)))\n",
    "print('F-score: ' + format(sklearn.metrics.f1_score(test_y, y_predicted.argmax(axis=1), \n",
    "                                                    average='weighted')))\n",
    "\n",
    "print(sklearn.metrics.classification_report(test_y, y_predicted.argmax(axis=1), \n",
    "                                            target_names=le.classes_))"
   ]
  },
  {
   "cell_type": "markdown",
   "metadata": {},
   "source": [
    "Будем использовать более продвинутый метод визуализации матрицы несоотвествий, реализованный в простой функции ниже:"
   ]
  },
  {
   "cell_type": "code",
   "execution_count": 9,
   "metadata": {},
   "outputs": [
    {
     "data": {
      "image/png": "[encoded data removed]",
      "text/plain": [
       "<matplotlib.figure.Figure at 0x1c7f52a7cc0>"
      ]
     },
     "metadata": {},
     "output_type": "display_data"
    }
   ],
   "source": [
    "import matplotlib.pyplot as plt\n",
    "import seaborn as sns\n",
    "%matplotlib inline\n",
    "\n",
    "def plot_matrix(test_y, y_predicted):\n",
    "    test = pd.DataFrame(sklearn.metrics.confusion_matrix(test_y, y_predicted.argmax(axis=1)))\n",
    "    test.index = le.classes_\n",
    "    test.columns = le.classes_\n",
    "\n",
    "    sns.heatmap(test, annot=True)\n",
    "    \n",
    "plot_matrix(test_y, y_predicted)"
   ]
  },
  {
   "cell_type": "markdown",
   "metadata": {},
   "source": [
    "Таким образом, с самого начала получается уже весьма хороший результат, в котором большиство классов было распознанно верно. В таком результате в первую очередь заслуга качественной предобработки, благодаря которой данные не имеют пробелов, отформатированные единым образом, убраны шумы и флуктуации. Проверим результат с помощью метрик F-score:"
   ]
  },
  {
   "cell_type": "markdown",
   "metadata": {},
   "source": [
    "Далее рассмотрим несколько параметров, на которые в первую очередь стоит обратить внимание при построении модели:\n",
    "  - n_estimators — число деревьев в \"лесу\"\n",
    "  - criterion — критерий для разбиения выборки в вершине\n",
    "  - max_features — число признаков, по которым ищется разбиение\n",
    "  - min_samples_leaf — минимальное число объектов в листе\n",
    "  - max_depth — максимальная глубина дерева"
   ]
  },
  {
   "cell_type": "markdown",
   "metadata": {},
   "source": [
    "## Количество деревьев\n",
    "\n",
    "Количество деревьев является основным параметром метода Random Forest. С увеличением количества деревьев повышается точность метода, однако при достижении определенного числа деревьев, на тесте точность выходит на асимптоту, поэтому можно самостоятельно решить, сколько деревьев оптимально для задачи. На тренировочной выборке можно достичь и 100% точности, но это будет говорить о переобучении модели. Чтобы избежать переобучения, необходимо добавить параметры регуляризации в модель."
   ]
  },
  {
   "cell_type": "code",
   "execution_count": 11,
   "metadata": {},
   "outputs": [],
   "source": [
    "def get_parameter(X, y, tuned_parameters, rfc, cv):\n",
    "    score = 'f1'\n",
    "    # с помощью GridSearch найдем оптимальные параметры\n",
    "    clf = sklearn.model_selection.GridSearchCV(rfc, tuned_parameters, cv=cv,\n",
    "                       scoring='%s_weighted' % score)\n",
    "    # Обучаем на тренировочном датасете\n",
    "    clf.fit(X, y)\n",
    "    print(\"Best accuracy on CV with {} \".format(list(clf.best_params_.values())[0]))\n",
    "    return list(clf.best_params_.values())[0], clf#.best_estimator_\n",
    "\n",
    "skf = sklearn.model_selection.StratifiedKFold(n_splits=3, shuffle=True, random_state=seed)\n",
    "rfc = sklearn.ensemble.RandomForestClassifier(random_state=seed, n_jobs=-1)\n",
    "\n"
   ]
  },
  {
   "cell_type": "markdown",
   "metadata": {},
   "source": [
    "Попробуйте подобрать параметр n_estimators из набора:\n",
    "  - [10, 20, 40, 80, 100, 160]"
   ]
  },
  {
   "cell_type": "code",
   "execution_count": 12,
   "metadata": {},
   "outputs": [
    {
     "name": "stdout",
     "output_type": "stream",
     "text": [
      "Best accuracy on CV with 160 \n",
      "F-score: 0.9782442509072931\n"
     ]
    }
   ],
   "source": [
    "tuned_parameters = {'n_estimators':[ \n",
    "        10, 20, 40, 80, 100, 160 #Здесь должны быть Ваши значения\n",
    "    ]}\n",
    "n_estimators, model = get_parameter(train_x, train_y, tuned_parameters, rfc, skf)\n",
    "y = model.predict_proba(test_x)\n",
    "print('F-score: {}'.format(sklearn.metrics.f1_score(test_y, y.argmax(axis=1), average='weighted')))"
   ]
  },
  {
   "cell_type": "markdown",
   "metadata": {
    "raw_mimetype": "text/markdown"
   },
   "source": [
    "## Максимальная глубина деревьев\n",
    " max_depth играет роль регуляризатора и позволяет уменьшить степень переобучения модели. Попробуйте подобрать параметр max_depth из набора:\n",
    "  - [3, 5, 7, 9, 11, 13, 15, 17, 20, 22, 24]\n",
    "  \n",
    "с максимальной метрикой F-score. \n",
    "\n",
    "Найти оптимальный параметр возможно полным перебором всех возможных значений, проверяя качество обучения на тестовой выборке каждый раз после обучения модели. \n",
    "\n",
    "Убодно для этой задачи воспользоваться функцией sklearn.model_selection.GridSearchCV, которую мы использовали в подготовленной для вас вспомогательной функции get_parameter. \n",
    "\n",
    "Какой получилась оптимальная величина max_depth?"
   ]
  },
  {
   "cell_type": "code",
   "execution_count": 13,
   "metadata": {},
   "outputs": [
    {
     "name": "stdout",
     "output_type": "stream",
     "text": [
      "Best accuracy on CV with 24 \n",
      "F-score: 0.9782442509072931\n"
     ]
    }
   ],
   "source": [
    "rfc = sklearn.ensemble.RandomForestClassifier(random_state=seed, n_jobs=-1, \n",
    "                                              n_estimators=n_estimators)\n",
    "tuned_parameters = {'max_depth':[\n",
    "        3, 5, 7, 9, 11, 13, 15, 17, 20, 22, 24 #Здесь должны быть Ваши значения\n",
    "    ]}\n",
    "max_depth, model = get_parameter(train_x, train_y, tuned_parameters,rfc,skf)\n",
    "y = model.predict_proba(test_x)\n",
    "print('F-score: {}'.format(sklearn.metrics.f1_score(test_y, y.argmax(axis=1), average='weighted')))\n"
   ]
  },
  {
   "cell_type": "markdown",
   "metadata": {
    "collapsed": true
   },
   "source": [
    "## Минимальное число объектов в листе\n",
    "min_samples_leaf также играет роль регуляризатора. Попробуйте подобрать параметр из набора значений:\n",
    "  - [1, 3, 5, 7, 9, 11, 13, 15, 17, 20, 22, 24]\n",
    "\n",
    "таким образом, чтобы модель давала наилучшие результат метрики F-score.\n",
    "\n",
    "Какой получилась оптимальная величина min_samples_leaf?"
   ]
  },
  {
   "cell_type": "code",
   "execution_count": 14,
   "metadata": {},
   "outputs": [
    {
     "name": "stdout",
     "output_type": "stream",
     "text": [
      "Best accuracy on CV with 1 \n",
      "F-score: 0.9782442509072931\n"
     ]
    }
   ],
   "source": [
    "tuned_parameters = {'min_samples_leaf':[\n",
    "        1, 3, 5, 7, 9, 11, 13, 15, 17, 20, 22, 24 #Здесь должны быть Ваши значения\n",
    "    ]}\n",
    "min_samples_leaf, model = get_parameter(train_x, train_y, tuned_parameters,rfc,skf)\n",
    "y = model.predict_proba(test_x)\n",
    "print('F-score: {}'.format(sklearn.metrics.f1_score(test_y, y.argmax(axis=1), average='weighted')))"
   ]
  },
  {
   "cell_type": "markdown",
   "metadata": {
    "collapsed": true
   },
   "source": [
    "## Число признаков, по которым ищется разбиение\n",
    "\n",
    "max_features - еще один параметр, который позволяет улучшить качество модели. Рекомендуется в задачах классификации брать $ max_{features} = \\sqrt{n}$, а в задачах регрессии — $max_{features} = \\frac{n}{3}$, где n — число всех признаков. \n",
    "\n",
    "Давайте проверим, оптимально ли в нашем случае использовать 23 признака или нет.\n",
    "Попробуйте подобрать параметр из набора значений:\n",
    "  - [16, 18, 20, 22, 23, 24, 26, 28, 30, 32, 34, 36]\n",
    "  \n",
    "Какой получилась оптимальная величина max_features? "
   ]
  },
  {
   "cell_type": "code",
   "execution_count": 15,
   "metadata": {},
   "outputs": [
    {
     "name": "stdout",
     "output_type": "stream",
     "text": [
      "Best accuracy on CV with 20 \n",
      "F-score: 0.9789064084888341\n"
     ]
    }
   ],
   "source": [
    "\n",
    "tuned_parameters = {'max_features':[\n",
    "        16, 18, 20, 22, 23, 24, 26, 28, 30, 32, 34, 36 #Здесь должны быть Ваши значения\n",
    "    ]}\n",
    "max_features, model = get_parameter(train_x, train_y, tuned_parameters,rfc,skf)\n",
    "y = model.predict_proba(test_x)\n",
    "print('F-score: {}'.format(sklearn.metrics.f1_score(test_y, y.argmax(axis=1), average='weighted')))"
   ]
  },
  {
   "cell_type": "markdown",
   "metadata": {},
   "source": [
    "Теперь с помощью GridSearch найдем оптимальные параметры для нашего набора данных. В этот раз не будем перебирать весь допустимый диапазон параметров, т.к. это потребует слишком много времени. Возмьем  для каждого параметра оптимальную величину, найденную выше, а также несколько соседних значений для этой величины. "
   ]
  },
  {
   "cell_type": "code",
   "execution_count": 16,
   "metadata": {},
   "outputs": [
    {
     "name": "stdout",
     "output_type": "stream",
     "text": [
      "{'max_depth': 22, 'max_features': 20, 'min_samples_leaf': 1}\n"
     ]
    }
   ],
   "source": [
    "\n",
    "rfc = sklearn.ensemble.RandomForestClassifier(random_state=seed, \n",
    "                                              n_jobs=-1, n_estimators = n_estimators)\n",
    "tuned_parameters = {\n",
    "    'max_features':[18, 20, 22 #Здесь должны быть Ваши значения\n",
    "                   ],\n",
    "    'min_samples_leaf':[1, 2 #Здесь тоже должны быть Ваши значения\n",
    "        ],\n",
    "    'max_depth':[22, 24, 26 #И здесь также должны быть Ваши значения\n",
    "        ]}\n",
    "clf = sklearn.model_selection.GridSearchCV(rfc, tuned_parameters, cv=skf)\n",
    "clf.fit(train_x, train_y)\n",
    "\n",
    "print(clf.best_params_)    "
   ]
  },
  {
   "cell_type": "code",
   "execution_count": 20,
   "metadata": {
    "scrolled": true
   },
   "outputs": [
    {
     "name": "stdout",
     "output_type": "stream",
     "text": [
      "F-мера: 0.9795862104446295\n"
     ]
    }
   ],
   "source": [
    "y_pred = clf.predict_proba(test_x)\n",
    "print('F-мера: ' + format(sklearn.metrics.f1_score(test_y, y_pred.argmax(axis=1), average='weighted')))"
   ]
  },
  {
   "cell_type": "markdown",
   "metadata": {
    "collapsed": true
   },
   "source": [
    "Изменились ли оптимальные итоговые значения параметров модели? Почему? "
   ]
  },
  {
   "cell_type": "markdown",
   "metadata": {
    "collapsed": true
   },
   "source": [
    "Теперь проверим какие признаки вносят основной вклад в итоговую модель."
   ]
  },
  {
   "cell_type": "code",
   "execution_count": 21,
   "metadata": {},
   "outputs": [
    {
     "name": "stdout",
     "output_type": "stream",
     "text": [
      "                       name     score\n",
      "57   tGravityAcc-energy()-Y  0.016280\n",
      "559    angle(Y,gravityMean)  0.018704\n",
      "53      tGravityAcc-min()-Y  0.021081\n",
      "49      tGravityAcc-max()-X  0.021105\n",
      "50      tGravityAcc-max()-Y  0.022426\n",
      "56   tGravityAcc-energy()-X  0.025660\n",
      "41     tGravityAcc-mean()-Y  0.026069\n",
      "52      tGravityAcc-min()-X  0.027126\n",
      "40     tGravityAcc-mean()-X  0.029552\n",
      "558    angle(X,gravityMean)  0.033002\n"
     ]
    }
   ],
   "source": [
    "importance = pd.DataFrame() \n",
    "importance.loc[:, 'name']= train_x.columns\n",
    "importance.loc[:, 'score'] = clf.best_estimator_.feature_importances_\n",
    "importance = importance.sort_values('score')\n",
    "print(importance.iloc[-10:])"
   ]
  },
  {
   "cell_type": "markdown",
   "metadata": {},
   "source": [
    "Признаки какой группы дают доминирующий вклад?\n",
    "\n",
    "Попробуем проверить эти значения, сгруппировав признаки по их категории:"
   ]
  },
  {
   "cell_type": "code",
   "execution_count": 22,
   "metadata": {
    "scrolled": true
   },
   "outputs": [
    {
     "name": "stdout",
     "output_type": "stream",
     "text": [
      "group\n",
      "fBodyAcc        0.088420\n",
      "fBodyAccJerk    0.122222\n",
      "tGravityAcc     0.318581\n",
      "Name: score, dtype: float64\n"
     ]
    }
   ],
   "source": [
    "importance['group'] = importance['name'].apply(lambda r: r.replace('(', '-'))\n",
    "importance.loc[:,'group'] = importance['group'].apply(lambda r: r.split('-')[0])\n",
    "print(importance.groupby('group')['score'].sum().sort_values()[-3:])"
   ]
  },
  {
   "cell_type": "markdown",
   "metadata": {},
   "source": [
    "Как вы можете объяснить тот факт, что основную роль в предсказании положения тела играет именно эта группа признаков?"
   ]
  },
  {
   "cell_type": "markdown",
   "metadata": {
    "collapsed": true
   },
   "source": [
    "Посмотрим на новую матрицу несоответствий:"
   ]
  },
  {
   "cell_type": "code",
   "execution_count": 23,
   "metadata": {
    "scrolled": true
   },
   "outputs": [
    {
     "data": {
      "image/png": "[encoded data removed]",
      "text/plain": [
       "<matplotlib.figure.Figure at 0x1c7ff87a6a0>"
      ]
     },
     "metadata": {},
     "output_type": "display_data"
    }
   ],
   "source": [
    "plot_matrix(test_y, y_pred)"
   ]
  },
  {
   "cell_type": "markdown",
   "metadata": {
    "collapsed": true
   },
   "source": [
    "Давайте сравним результат нашей модели с простой моделью логистической регрессии."
   ]
  },
  {
   "cell_type": "code",
   "execution_count": 24,
   "metadata": {},
   "outputs": [
    {
     "name": "stdout",
     "output_type": "stream",
     "text": [
      "F-мера: 0.9884390049501063\n"
     ]
    },
    {
     "data": {
      "image/png": "[encoded data removed]",
      "text/plain": [
       "<matplotlib.figure.Figure at 0x1c7ff70c780>"
      ]
     },
     "metadata": {},
     "output_type": "display_data"
    }
   ],
   "source": [
    "import sklearn.linear_model\n",
    "lmodel = sklearn.linear_model.LogisticRegression(random_state=seed)\n",
    "lmodel.fit(train_x, train_y)\n",
    "y_pred2 = lmodel.predict_proba((test_x))\n",
    "plot_matrix(test_y, y_pred2)\n",
    "print('F-мера: ' + format(sklearn.metrics.f1_score(test_y, y_pred2.argmax(axis=1), \n",
    "                                                   average='weighted')))\n",
    "\n"
   ]
  },
  {
   "cell_type": "markdown",
   "metadata": {
    "collapsed": true
   },
   "source": [
    "Ответьте на несколько вопросов:\n",
    "  - Какая из моделей считалась дольше?\n",
    "  - У какой модели получились более точные результаты? Почему так получается?"
   ]
  },
  {
   "cell_type": "markdown",
   "metadata": {},
   "source": [
    "Далее воспользуемся приемом, который активно применяется в соревнованиях Kaggle: \n",
    "  - если объединить две модели, то предсказания полученного ансамбля будут лучше, чем предсказания каждой модели по отдельности.\n",
    "    \n",
    "Для объединения двух моделей можно воспользоваться формулой [геометрического среднего](https://ru.wikipedia.org/wiki/%D0%A1%D1%80%D0%B5%D0%B4%D0%BD%D0%B5%D0%B5_%D0%B3%D0%B5%D0%BE%D0%BC%D0%B5%D1%82%D1%80%D0%B8%D1%87%D0%B5%D1%81%D0%BA%D0%BE%D0%B5). "
   ]
  },
  {
   "cell_type": "code",
   "execution_count": 25,
   "metadata": {
    "scrolled": true
   },
   "outputs": [
    {
     "name": "stdout",
     "output_type": "stream",
     "text": [
      "F-мера: 0.9891211359302986\n",
      "                    precision    recall  f1-score   support\n",
      "\n",
      "            LAYING       1.00      1.00      1.00       286\n",
      "           SITTING       0.98      0.96      0.97       257\n",
      "          STANDING       0.96      0.99      0.97       269\n",
      "           WALKING       1.00      1.00      1.00       245\n",
      "WALKING_DOWNSTAIRS       1.00      1.00      1.00       210\n",
      "  WALKING_UPSTAIRS       0.99      1.00      1.00       204\n",
      "\n",
      "       avg / total       0.99      0.99      0.99      1471\n",
      "\n"
     ]
    },
    {
     "data": {
      "image/png": "[encoded data removed]",
      "text/plain": [
       "<matplotlib.figure.Figure at 0x1c781b22470>"
      ]
     },
     "metadata": {},
     "output_type": "display_data"
    }
   ],
   "source": [
    "ans = np.sqrt(y_pred * y_pred2)\n",
    "plot_matrix(test_y, ans)\n",
    "print('F-мера: ' + format(sklearn.metrics.f1_score(test_y, ans.argmax(axis=1), \n",
    "                                                   average='weighted')))\n",
    "print(sklearn.metrics.classification_report(test_y, ans.argmax(axis=1), \n",
    "                                            target_names=le.classes_))"
   ]
  },
  {
   "cell_type": "markdown",
   "metadata": {},
   "source": [
    "Стали метрики качества выше? Имеет ли смысл объединять модели?"
   ]
  },
  {
   "cell_type": "markdown",
   "metadata": {},
   "source": [
    "Теперь протестируем результат на тестовой выборке"
   ]
  },
  {
   "cell_type": "code",
   "execution_count": 24,
   "metadata": {
    "collapsed": true
   },
   "outputs": [],
   "source": [
    "test = pd.read_csv('test.csv', sep=',')\n",
    "X2 = test.loc[:,test.columns[:-2]]\n",
    "state = test.loc[:, 'Activity']\n",
    "\n",
    "y_predict1 = clf.predict_proba(X2)\n",
    "y_predict2 = lmodel.predict_proba(X2)\n",
    "\n",
    "y_test = le.fit_transform(state)\n"
   ]
  },
  {
   "cell_type": "markdown",
   "metadata": {},
   "source": [
    "Для модели на основе логистической регрессии: "
   ]
  },
  {
   "cell_type": "code",
   "execution_count": 25,
   "metadata": {},
   "outputs": [
    {
     "name": "stdout",
     "output_type": "stream",
     "text": [
      "F-мера: 0.9649361523122901\n"
     ]
    },
    {
     "data": {
      "image/png": "[encoded data removed]",
      "text/plain": [
       "<matplotlib.figure.Figure at 0x1cbc4866d68>"
      ]
     },
     "metadata": {},
     "output_type": "display_data"
    }
   ],
   "source": [
    "print('F-мера: ' + format(sklearn.metrics.f1_score(y_test, y_predict2.argmax(axis=1), \n",
    "                                                   average='weighted')))\n",
    "plot_matrix(y_test, y_predict2)"
   ]
  },
  {
   "cell_type": "markdown",
   "metadata": {},
   "source": [
    "Для модели RandomForest получим следующие результаты:"
   ]
  },
  {
   "cell_type": "code",
   "execution_count": 26,
   "metadata": {},
   "outputs": [
    {
     "name": "stdout",
     "output_type": "stream",
     "text": [
      "F-мера: 0.9324933232593069\n"
     ]
    },
    {
     "data": {
      "image/png": "[encoded data removed]",
      "text/plain": [
       "<matplotlib.figure.Figure at 0x1cbc66c14e0>"
      ]
     },
     "metadata": {},
     "output_type": "display_data"
    }
   ],
   "source": [
    "print('F-мера: ' + format(sklearn.metrics.f1_score(y_test, y_predict1.argmax(axis=1), \n",
    "                                                   average='weighted')))\n",
    "plot_matrix(y_test, y_predict1)"
   ]
  },
  {
   "cell_type": "markdown",
   "metadata": {},
   "source": [
    "Для объединенной модели:"
   ]
  },
  {
   "cell_type": "code",
   "execution_count": 27,
   "metadata": {},
   "outputs": [
    {
     "name": "stdout",
     "output_type": "stream",
     "text": [
      "F-мера: 0.9639271846861538\n",
      "                    precision    recall  f1-score   support\n",
      "\n",
      "            LAYING       1.00      1.00      1.00       537\n",
      "           SITTING       0.97      0.89      0.93       491\n",
      "          STANDING       0.91      0.97      0.94       532\n",
      "           WALKING       0.96      1.00      0.98       496\n",
      "WALKING_DOWNSTAIRS       0.99      0.95      0.97       420\n",
      "  WALKING_UPSTAIRS       0.96      0.97      0.96       471\n",
      "\n",
      "       avg / total       0.96      0.96      0.96      2947\n",
      "\n"
     ]
    },
    {
     "data": {
      "image/png": "[encoded data removed]",
      "text/plain": [
       "<matplotlib.figure.Figure at 0x1cbc67882b0>"
      ]
     },
     "metadata": {},
     "output_type": "display_data"
    }
   ],
   "source": [
    "ans = np.sqrt(y_predict1 * y_predict2)\n",
    "plot_matrix(y_test, ans)\n",
    "print('F-мера: ' + format(sklearn.metrics.f1_score(y_test, ans.argmax(axis=1), \n",
    "                                                   average='weighted')))\n",
    "print(sklearn.metrics.classification_report(y_test, ans.argmax(axis=1), \n",
    "                                            target_names=le.classes_))"
   ]
  },
  {
   "cell_type": "markdown",
   "metadata": {},
   "source": [
    "Ответьте на следующие вопросы:\n",
    " - Какое состояние распознается хуже всего? Почему?\n",
    " - Почему на тренировочной выборке при объединении моделей результат улучшался, а на тестовой выборке такого не наблюдается?\n",
    " - Предложите методы для улучшения качества классификации.\n"
   ]
  },
  {
   "cell_type": "markdown",
   "metadata": {},
   "source": [
    "## Дополнительные методы использования Random Forest\n",
    "\n",
    "### Преобразование признаков в многомерное пространство\n",
    "\n",
    "Существует возможность исользовать Random Forest для обучение без учителя. Метод RandomTreesEmbedding позволяет сделать трансформацию датасета в многомерное разреженное его представление. Его суть в том, что мы строим абсолютно случайные деревья, и индекс листа, в котором оказалось наблюдение, мы считаем за новый признак. Если в первый лист попал объект, то мы ставим 1, а если не попал, то 0. Так называемое бинарное кодирование. Контролировать количество переменных и также степень разряженности нашего нового представления датасета мы можем увеличивая/уменьшая количество деревьев и их глубины. Поскольку соседние точки данных, скорее всего, лежат в одном и том же листе дерева, преобразование выполняет неявную, непараметрическую оценку плотности.\n",
    "\n",
    "### Поиск аномалий\n",
    "\n",
    "Существует возможность использовать Random Forest для поиска аномалий в данных. Метод Isolation Forest работает на том принципе, что аномалий мало и они отличаются от типичных наблюдений в выборке. Алгоритм Isolation Forest создает деревья (Binary search trees) для различных признаков, позволяя менять уже знакомые нам параметры для тонкой настройки:\n",
    "  - количество деревьев (n_estimators)\n",
    "  - максимальное число объектов в листе дерева (max_samples)\n",
    "  - число признаков, по которым ищется разбиение (max_features)\n",
    "\n",
    "На шаге тестирования алгоритм находит длину пути по построенным деревьям для объектов в выборке, а также среднюю длину пути. Чем длиннее путь, тем \"нормальнее\" объект и наоборот. \n",
    "Рейтинг аномальности основан на средней длине пути и позволяет отсечь аномальные объекты в выборке. \n",
    "\n",
    "\n",
    "## Заключение\n",
    "\n",
    "### Плюсы и минусы метода Random Forest\n",
    "\n",
    "**Плюсы метода**:\n",
    "  - имеет высокую точность предсказания, на большинстве задач будет лучше линейных алгоритмов; точность сравнима с точностью бустинга\n",
    "  - практически не чувствителен к выбросам в данных из-за случайного сэмлирования\n",
    "  - нечувствителен к масштабированию (и вообще к любым монотонным преобразованиям) значений признаков, связано с выбором случайных подпространств\n",
    "  - не требует тщательной настройки параметров, хорошо работает «из коробки». С помощью «тюнинга» параметров можно достичь прироста от 0.5 до 3% точности в зависимости от задачи и данных\n",
    "  - способен эффективно обрабатывать данные с большим числом признаков и классов\n",
    "  - одинаково хорошо обрабатывет как непрерывные, так и дискретные признаки\n",
    "  - редко переобучается, на практике добавление деревьев почти всегда только улучшает композицию, но на валидации, после достижения определенного количества деревьев, кривая обучения выходит на асимптоту\n",
    "  - для случайного леса существуют методы оценивания значимости отдельных признаков в модели\n",
    "  - хорошо работает с пропущенными данными; сохраняет хорошую точность, если большая часть данных пропущенна\n",
    "  - предполагает возможность сбалансировать вес каждого класса на всей выборке, либо на подвыборке каждого дерева\n",
    "  - вычисляет близость между парами объектов, которые могут использоваться при кластеризации, обнаружении выбросов или (путем масштабирования) дают интересные представления данных\n",
    "  - возможности, описанные выше, могут быть расширены до немаркированных данных, что приводит к возможноти делать кластеризацию и визуализацию данных, обнаруживать выбросы\n",
    "  - высокая параллелизуемость и масштабируемость.\n",
    "\n",
    "\n",
    "**Минусы метода**:\n",
    "  - в отличие от одного дерева, результаты случайного леса сложнее интерпретировать\n",
    "  - нет формальных выводов (p-values), доступных для оценки важности переменных\n",
    "  - алгоритм работает хуже многих линейных методов, когда в выборке очень много разреженных признаков (тексты, Bag of words)\n",
    "  - случайный лес не умеет экстраполировать, в отличие от той же линейной регрессии (но это можно считать и плюсом, так как не будет экстремальных значений в случае попадания выброса)\n",
    "  - алгоритм склонен к переобучению на некоторых задачах, особенно на зашумленных данных\n",
    "  - для данных, включающих категориальные переменные с различным количеством уровней, случайные леса предвзяты в пользу признаков с большим количеством уровней: когда у признака много уровней, дерево будет сильнее подстраиваться именно под эти признаки, так как на них можно получить более высокую точность\n",
    "  - если данные содержат группы коррелированных признаков, имеющих схожую значимость для меток, то предпочтение отдается небольшим группам перед большими\n",
    "  - больший размер получающихся моделей. "
   ]
  },
  {
   "cell_type": "markdown",
   "metadata": {},
   "source": [
    "### Полезные источники:\n",
    "    \n",
    "  - 15 раздел книги “Elements of Statistical Learning” Jerome H. Friedman, Robert Tibshirani, and Trevor Hastie\n",
    "  - [Блог](https://alexanderdyakonov.wordpress.com/2016/11/14/%D1%81%D0%BB%D1%83%D1%87%D0%B0%D0%B9%D0%BD%D1%8B%D0%B9-%D0%BB%D0%B5%D1%81-random-forest/) Александра Дьяконова\n",
    "  - больше про практические применение случайного леса и других алгоритмов композиций в официальной документации scikit-learn\n",
    "  - [Курс](https://github.com/esokolov/ml-course-hse) Евгения Соколова по машинному обучению (материалы на GitHub). Есть дополнительные практические задания для углубления ваших знаний.\n",
    "  - [Курс от Open Data Science](https://habrahabr.ru/company/ods/blog/322626/)"
   ]
  }
 ],
 "metadata": {
  "celltoolbar": "Raw Cell Format",
  "kernelspec": {
   "display_name": "Python 3",
   "language": "python",
   "name": "python3"
  },
  "language_info": {
   "codemirror_mode": {
    "name": "ipython",
    "version": 3
   },
   "file_extension": ".py",
   "mimetype": "text/x-python",
   "name": "python",
   "nbconvert_exporter": "python",
   "pygments_lexer": "ipython3",
   "version": "3.6.3"
  }
 },
 "nbformat": 4,
 "nbformat_minor": 1
}
