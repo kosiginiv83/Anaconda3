{
 "cells": [
  {
   "cell_type": "code",
   "execution_count": 24,
   "metadata": {
    "collapsed": true
   },
   "outputs": [],
   "source": [
    "import pandas as pd"
   ]
  },
  {
   "cell_type": "code",
   "execution_count": 25,
   "metadata": {
    "collapsed": true
   },
   "outputs": [],
   "source": [
    "DATA_PATH = './names/'"
   ]
  },
  {
   "cell_type": "markdown",
   "metadata": {},
   "source": [
    "Задача №1\n",
    "С использованием Pandas написать функцию, которая загружает указанные года и выводит ТОП-3 популярных имен. Например:\n",
    "        count_top3([1880]) == ['John', 'William', 'Mary']\n",
    "        count_top3([1900, 1950, 2000]) == ['James', 'John', 'Robert']"
   ]
  },
  {
   "cell_type": "code",
   "execution_count": 116,
   "metadata": {
    "collapsed": true
   },
   "outputs": [],
   "source": [
    "def count_top3(years):\n",
    "    files = []\n",
    "    for year in years:\n",
    "        file = pd.read_csv(\n",
    "            DATA_PATH + 'yob' + str(year) + '.txt',\n",
    "            names=['Name', 'Gender', 'Count']\n",
    "        )\n",
    "        files.append(file)\n",
    "    merge_file = pd.concat(files)\n",
    "    top3 = merge_file.sort_values(by='Count', ascending=False).head(3)\n",
    "    result = [top3.values[x][0] for x in range(len(top3))]\n",
    "    print(result)"
   ]
  },
  {
   "cell_type": "code",
   "execution_count": 118,
   "metadata": {
    "scrolled": true
   },
   "outputs": [
    {
     "name": "stdout",
     "output_type": "stream",
     "text": [
      "['John', 'William', 'Mary']\n",
      "['James', 'Robert', 'Linda']\n",
      "['James', 'David', 'Michael']\n"
     ]
    }
   ],
   "source": [
    "count_top3([1880])\n",
    "count_top3([1900, 1950, 2000])\n",
    "count_top3([1900, 1910, 1920, 1930, 1940, 1950, 1960, 1970, 1980, 1990, 2000])"
   ]
  },
  {
   "cell_type": "markdown",
   "metadata": {},
   "source": [
    "Задача №2\n",
    "\n",
    "С использованием Pandas написать функцию, которая возвращает динамику изменения количества имен за указанные года в разрезе полов. Например:\n",
    "        count_dynamics([1900, 1950, 2000]) == {\n",
    "          'F': [299810, 1713259, 1814922],\n",
    "          'M': [150486, 1790871, 1962744]\n",
    "        }"
   ]
  },
  {
   "cell_type": "code",
   "execution_count": null,
   "metadata": {
    "collapsed": true
   },
   "outputs": [],
   "source": []
  }
 ],
 "metadata": {
  "kernelspec": {
   "display_name": "Python 3",
   "language": "python",
   "name": "python3"
  },
  "language_info": {
   "codemirror_mode": {
    "name": "ipython",
    "version": 3
   },
   "file_extension": ".py",
   "mimetype": "text/x-python",
   "name": "python",
   "nbconvert_exporter": "python",
   "pygments_lexer": "ipython3",
   "version": "3.6.3"
  }
 },
 "nbformat": 4,
 "nbformat_minor": 2
}
