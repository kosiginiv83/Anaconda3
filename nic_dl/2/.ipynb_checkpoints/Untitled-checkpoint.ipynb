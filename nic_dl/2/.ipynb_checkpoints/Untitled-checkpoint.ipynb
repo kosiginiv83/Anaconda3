{
 "cells": [
  {
   "cell_type": "code",
   "execution_count": 1,
   "metadata": {},
   "outputs": [
    {
     "name": "stderr",
     "output_type": "stream",
     "text": [
      "Using TensorFlow backend.\n"
     ]
    }
   ],
   "source": [
    "from keras.models import Sequential\n",
    "from keras.layers import Dense"
   ]
  },
  {
   "cell_type": "code",
   "execution_count": 2,
   "metadata": {},
   "outputs": [
    {
     "name": "stdout",
     "output_type": "stream",
     "text": [
      "Downloading data from https://s3.amazonaws.com/img-datasets/mnist.npz\n",
      "11476992/11490434 [============================>.] - ETA: 0s"
     ]
    }
   ],
   "source": [
    "from keras.datasets import mnist\n",
    "(x_train, y_train), (x_test, y_test) = mnist.load_data()"
   ]
  },
  {
   "cell_type": "code",
   "execution_count": 3,
   "metadata": {},
   "outputs": [],
   "source": [
    "from keras.utils import np_utils\n",
    "Y_train = np_utils.to_categorical(y_train, 10)\n",
    "Y_test = np_utils.to_categorical(y_test, 10)"
   ]
  },
  {
   "cell_type": "code",
   "execution_count": 7,
   "metadata": {},
   "outputs": [],
   "source": [
    "X_train = x_train.reshape([-1, 28*28]) / 255.\n",
    "X_test = x_test.reshape([-1, 28*28]) / 255."
   ]
  },
  {
   "cell_type": "code",
   "execution_count": 15,
   "metadata": {},
   "outputs": [],
   "source": [
    "def create_model(init):\n",
    "    model = Sequential()\n",
    "    model.add(Dense(100, input_shape=(784,), kernel_initializer=init, activation='tanh'))\n",
    "    model.add(Dense(100, kernel_initializer=init, activation='tanh'))\n",
    "    model.add(Dense(100, kernel_initializer=init, activation='tanh'))\n",
    "    model.add(Dense(100, kernel_initializer=init, activation='tanh'))\n",
    "    model.add(Dense(10, kernel_initializer=init, activation='softmax'))\n",
    "    return model"
   ]
  },
  {
   "cell_type": "code",
   "execution_count": 16,
   "metadata": {},
   "outputs": [
    {
     "name": "stderr",
     "output_type": "stream",
     "text": [
      "C:\\Anaconda_pf\\lib\\site-packages\\ipykernel_launcher.py:4: UserWarning: Update your `Dense` call to the Keras 2 API: `Dense(100, activation=\"tanh\", kernel_initializer=\"uniform\")`\n",
      "  after removing the cwd from sys.path.\n",
      "C:\\Anaconda_pf\\lib\\site-packages\\ipykernel_launcher.py:5: UserWarning: Update your `Dense` call to the Keras 2 API: `Dense(100, activation=\"tanh\", kernel_initializer=\"uniform\")`\n",
      "  \"\"\"\n",
      "C:\\Anaconda_pf\\lib\\site-packages\\ipykernel_launcher.py:6: UserWarning: Update your `Dense` call to the Keras 2 API: `Dense(100, activation=\"tanh\", kernel_initializer=\"uniform\")`\n",
      "  \n",
      "C:\\Anaconda_pf\\lib\\site-packages\\ipykernel_launcher.py:7: UserWarning: Update your `Dense` call to the Keras 2 API: `Dense(10, activation=\"softmax\", kernel_initializer=\"uniform\")`\n",
      "  import sys\n"
     ]
    },
    {
     "name": "stdout",
     "output_type": "stream",
     "text": [
      "Train on 60000 samples, validate on 10000 samples\n",
      "Epoch 1/30\n",
      "60000/60000 [==============================] - 4s - loss: 2.3007 - acc: 0.1143 - val_loss: 2.2986 - val_acc: 0.1135\n",
      "Epoch 2/30\n",
      "60000/60000 [==============================] - 4s - loss: 2.2964 - acc: 0.1124 - val_loss: 2.2924 - val_acc: 0.1135\n",
      "Epoch 3/30\n",
      "60000/60000 [==============================] - 4s - loss: 2.2752 - acc: 0.1469 - val_loss: 2.2084 - val_acc: 0.2662\n",
      "Epoch 4/30\n",
      "60000/60000 [==============================] - 5s - loss: 1.9162 - acc: 0.2579 - val_loss: 1.7217 - val_acc: 0.3657\n",
      "Epoch 5/30\n",
      "60000/60000 [==============================] - 4s - loss: 1.2715 - acc: 0.5859 - val_loss: 0.8864 - val_acc: 0.7116\n",
      "Epoch 6/30\n",
      "60000/60000 [==============================] - 5s - loss: 0.7963 - acc: 0.7390 - val_loss: 0.7111 - val_acc: 0.7725\n",
      "Epoch 7/30\n",
      "60000/60000 [==============================] - 5s - loss: 0.6538 - acc: 0.7990 - val_loss: 0.5726 - val_acc: 0.8338\n",
      "Epoch 8/30\n",
      "60000/60000 [==============================] - 4s - loss: 0.5278 - acc: 0.8506 - val_loss: 0.4616 - val_acc: 0.8714\n",
      "Epoch 9/30\n",
      "60000/60000 [==============================] - 5s - loss: 0.4353 - acc: 0.8798 - val_loss: 0.3926 - val_acc: 0.8908\n",
      "Epoch 10/30\n",
      "60000/60000 [==============================] - 5s - loss: 0.3764 - acc: 0.8958 - val_loss: 0.3546 - val_acc: 0.9017\n",
      "Epoch 11/30\n",
      "60000/60000 [==============================] - 4s - loss: 0.3343 - acc: 0.9075 - val_loss: 0.3193 - val_acc: 0.9129\n",
      "Epoch 12/30\n",
      "60000/60000 [==============================] - 4s - loss: 0.2991 - acc: 0.9173 - val_loss: 0.2936 - val_acc: 0.9186\n",
      "Epoch 13/30\n",
      "60000/60000 [==============================] - 5s - loss: 0.2685 - acc: 0.9262 - val_loss: 0.2730 - val_acc: 0.9240\n",
      "Epoch 14/30\n",
      "60000/60000 [==============================] - 4s - loss: 0.2432 - acc: 0.9331 - val_loss: 0.2450 - val_acc: 0.9332\n",
      "Epoch 15/30\n",
      "60000/60000 [==============================] - 4s - loss: 0.2224 - acc: 0.9383 - val_loss: 0.2483 - val_acc: 0.9294\n",
      "Epoch 16/30\n",
      "60000/60000 [==============================] - 4s - loss: 0.2039 - acc: 0.9434 - val_loss: 0.2148 - val_acc: 0.9401\n",
      "Epoch 17/30\n",
      "60000/60000 [==============================] - 4s - loss: 0.1885 - acc: 0.9476 - val_loss: 0.1944 - val_acc: 0.9475\n",
      "Epoch 18/30\n",
      "60000/60000 [==============================] - 4s - loss: 0.1748 - acc: 0.9519 - val_loss: 0.1869 - val_acc: 0.9479\n",
      "Epoch 19/30\n",
      "60000/60000 [==============================] - 4s - loss: 0.1628 - acc: 0.9546 - val_loss: 0.1774 - val_acc: 0.9513\n",
      "Epoch 20/30\n",
      "60000/60000 [==============================] - 5s - loss: 0.1529 - acc: 0.9579 - val_loss: 0.1728 - val_acc: 0.9511\n",
      "Epoch 21/30\n",
      "60000/60000 [==============================] - 4s - loss: 0.1444 - acc: 0.9596 - val_loss: 0.1573 - val_acc: 0.9559\n",
      "Epoch 22/30\n",
      "60000/60000 [==============================] - 4s - loss: 0.1360 - acc: 0.9622 - val_loss: 0.1531 - val_acc: 0.9568\n",
      "Epoch 23/30\n",
      "60000/60000 [==============================] - 5s - loss: 0.1281 - acc: 0.9641 - val_loss: 0.1685 - val_acc: 0.9520\n",
      "Epoch 24/30\n",
      "60000/60000 [==============================] - 4s - loss: 0.1221 - acc: 0.9654 - val_loss: 0.1538 - val_acc: 0.9551\n",
      "Epoch 25/30\n",
      "60000/60000 [==============================] - 4s - loss: 0.1160 - acc: 0.9678 - val_loss: 0.1480 - val_acc: 0.9574\n",
      "Epoch 26/30\n",
      "60000/60000 [==============================] - 5s - loss: 0.1108 - acc: 0.9689 - val_loss: 0.1547 - val_acc: 0.9551\n",
      "Epoch 27/30\n",
      "60000/60000 [==============================] - 4s - loss: 0.1058 - acc: 0.9708 - val_loss: 0.1364 - val_acc: 0.9609\n",
      "Epoch 28/30\n",
      "60000/60000 [==============================] - 4s - loss: 0.1008 - acc: 0.9714 - val_loss: 0.1436 - val_acc: 0.9587\n",
      "Epoch 29/30\n",
      "60000/60000 [==============================] - 5s - loss: 0.0960 - acc: 0.9734 - val_loss: 0.1763 - val_acc: 0.9468\n",
      "Epoch 30/30\n",
      "60000/60000 [==============================] - 4s - loss: 0.0927 - acc: 0.9740 - val_loss: 0.1303 - val_acc: 0.9625\n"
     ]
    },
    {
     "data": {
      "text/plain": [
       "<keras.callbacks.History at 0x1e1bbad1048>"
      ]
     },
     "execution_count": 16,
     "metadata": {},
     "output_type": "execute_result"
    }
   ],
   "source": [
    "uniform_model = create_model(\"uniform\")\n",
    "uniform_model.compile(loss='categorical_crossentropy', optimizer='sgd', metrics=['accuracy'])\n",
    "uniform_model.fit(X_train, Y_train, batch_size=64, epochs=30, verbose=1, validation_data=(X_test, Y_test))"
   ]
  },
  {
   "cell_type": "code",
   "execution_count": 14,
   "metadata": {
    "scrolled": false
   },
   "outputs": [
    {
     "name": "stderr",
     "output_type": "stream",
     "text": [
      "C:\\Anaconda_pf\\lib\\site-packages\\ipykernel_launcher.py:3: UserWarning: Update your `Dense` call to the Keras 2 API: `Dense(100, input_shape=(784,), activation=\"tanh\", kernel_initializer=\"glorot_normal\")`\n",
      "  This is separate from the ipykernel package so we can avoid doing imports until\n",
      "C:\\Anaconda_pf\\lib\\site-packages\\ipykernel_launcher.py:4: UserWarning: Update your `Dense` call to the Keras 2 API: `Dense(100, activation=\"tanh\", kernel_initializer=\"glorot_normal\")`\n",
      "  after removing the cwd from sys.path.\n",
      "C:\\Anaconda_pf\\lib\\site-packages\\ipykernel_launcher.py:5: UserWarning: Update your `Dense` call to the Keras 2 API: `Dense(100, activation=\"tanh\", kernel_initializer=\"glorot_normal\")`\n",
      "  \"\"\"\n",
      "C:\\Anaconda_pf\\lib\\site-packages\\ipykernel_launcher.py:6: UserWarning: Update your `Dense` call to the Keras 2 API: `Dense(100, activation=\"tanh\", kernel_initializer=\"glorot_normal\")`\n",
      "  \n",
      "C:\\Anaconda_pf\\lib\\site-packages\\ipykernel_launcher.py:7: UserWarning: Update your `Dense` call to the Keras 2 API: `Dense(10, activation=\"softmax\", kernel_initializer=\"glorot_normal\")`\n",
      "  import sys\n",
      "C:\\Anaconda_pf\\lib\\site-packages\\keras\\models.py:848: UserWarning: The `nb_epoch` argument in `fit` has been renamed `epochs`.\n",
      "  warnings.warn('The `nb_epoch` argument in `fit` '\n"
     ]
    },
    {
     "name": "stdout",
     "output_type": "stream",
     "text": [
      "Train on 60000 samples, validate on 10000 samples\n",
      "Epoch 1/30\n",
      "60000/60000 [==============================] - 5s - loss: 0.8605 - acc: 0.7897 - val_loss: 0.4208 - val_acc: 0.8939\n",
      "Epoch 2/30\n",
      "60000/60000 [==============================] - 4s - loss: 0.3751 - acc: 0.8974 - val_loss: 0.3213 - val_acc: 0.9105\n",
      "Epoch 3/30\n",
      "60000/60000 [==============================] - 5s - loss: 0.3115 - acc: 0.9117 - val_loss: 0.2824 - val_acc: 0.9207\n",
      "Epoch 4/30\n",
      "60000/60000 [==============================] - 4s - loss: 0.2789 - acc: 0.9193 - val_loss: 0.2573 - val_acc: 0.9278\n",
      "Epoch 5/30\n",
      "60000/60000 [==============================] - 4s - loss: 0.2547 - acc: 0.9260 - val_loss: 0.2396 - val_acc: 0.9317\n",
      "Epoch 6/30\n",
      "60000/60000 [==============================] - 5s - loss: 0.2353 - acc: 0.9318 - val_loss: 0.2238 - val_acc: 0.9361\n",
      "Epoch 7/30\n",
      "60000/60000 [==============================] - 4s - loss: 0.2182 - acc: 0.9363 - val_loss: 0.2083 - val_acc: 0.9374\n",
      "Epoch 8/30\n",
      "60000/60000 [==============================] - 4s - loss: 0.2026 - acc: 0.9407 - val_loss: 0.1972 - val_acc: 0.9409\n",
      "Epoch 9/30\n",
      "60000/60000 [==============================] - 4s - loss: 0.1886 - acc: 0.9450 - val_loss: 0.1828 - val_acc: 0.9441\n",
      "Epoch 10/30\n",
      "60000/60000 [==============================] - 5s - loss: 0.1756 - acc: 0.9491 - val_loss: 0.1716 - val_acc: 0.9489\n",
      "Epoch 11/30\n",
      "60000/60000 [==============================] - 4s - loss: 0.1642 - acc: 0.9526 - val_loss: 0.1631 - val_acc: 0.9510\n",
      "Epoch 12/30\n",
      "60000/60000 [==============================] - 4s - loss: 0.1535 - acc: 0.9558 - val_loss: 0.1561 - val_acc: 0.9541\n",
      "Epoch 13/30\n",
      "60000/60000 [==============================] - 5s - loss: 0.1443 - acc: 0.9582 - val_loss: 0.1467 - val_acc: 0.9553\n",
      "Epoch 14/30\n",
      "60000/60000 [==============================] - 5s - loss: 0.1355 - acc: 0.9610 - val_loss: 0.1386 - val_acc: 0.9585\n",
      "Epoch 15/30\n",
      "60000/60000 [==============================] - 4s - loss: 0.1278 - acc: 0.9630 - val_loss: 0.1344 - val_acc: 0.9602\n",
      "Epoch 16/30\n",
      "60000/60000 [==============================] - 5s - loss: 0.1209 - acc: 0.9649 - val_loss: 0.1301 - val_acc: 0.9602\n",
      "Epoch 17/30\n",
      "60000/60000 [==============================] - 5s - loss: 0.1141 - acc: 0.9678 - val_loss: 0.1237 - val_acc: 0.9630\n",
      "Epoch 18/30\n",
      "60000/60000 [==============================] - 4s - loss: 0.1083 - acc: 0.9687 - val_loss: 0.1182 - val_acc: 0.9642\n",
      "Epoch 19/30\n",
      "60000/60000 [==============================] - 5s - loss: 0.1024 - acc: 0.9708 - val_loss: 0.1146 - val_acc: 0.9648\n",
      "Epoch 20/30\n",
      "60000/60000 [==============================] - 5s - loss: 0.0978 - acc: 0.9717 - val_loss: 0.1108 - val_acc: 0.9660\n",
      "Epoch 21/30\n",
      "60000/60000 [==============================] - 4s - loss: 0.0931 - acc: 0.9731 - val_loss: 0.1093 - val_acc: 0.9659\n",
      "Epoch 22/30\n",
      "60000/60000 [==============================] - 4s - loss: 0.0888 - acc: 0.9749 - val_loss: 0.1065 - val_acc: 0.9663\n",
      "Epoch 23/30\n",
      "60000/60000 [==============================] - 5s - loss: 0.0846 - acc: 0.9762 - val_loss: 0.1033 - val_acc: 0.9687\n",
      "Epoch 24/30\n",
      "60000/60000 [==============================] - 4s - loss: 0.0807 - acc: 0.9768 - val_loss: 0.1038 - val_acc: 0.9688\n",
      "Epoch 25/30\n",
      "60000/60000 [==============================] - 4s - loss: 0.0772 - acc: 0.9784 - val_loss: 0.0984 - val_acc: 0.9693\n",
      "Epoch 26/30\n",
      "60000/60000 [==============================] - 5s - loss: 0.0736 - acc: 0.9791 - val_loss: 0.0974 - val_acc: 0.9698\n",
      "Epoch 27/30\n",
      "60000/60000 [==============================] - 4s - loss: 0.0709 - acc: 0.9798 - val_loss: 0.0940 - val_acc: 0.9703\n",
      "Epoch 28/30\n",
      "60000/60000 [==============================] - 4s - loss: 0.0674 - acc: 0.9808 - val_loss: 0.0922 - val_acc: 0.9711\n",
      "Epoch 29/30\n",
      "60000/60000 [==============================] - 5s - loss: 0.0647 - acc: 0.9819 - val_loss: 0.0937 - val_acc: 0.9700\n",
      "Epoch 30/30\n",
      "60000/60000 [==============================] - 4s - loss: 0.0618 - acc: 0.9824 - val_loss: 0.0903 - val_acc: 0.9716\n"
     ]
    },
    {
     "data": {
      "text/plain": [
       "<keras.callbacks.History at 0x1e1ba59fb38>"
      ]
     },
     "execution_count": 14,
     "metadata": {},
     "output_type": "execute_result"
    }
   ],
   "source": [
    "glorot_model = create_model(\"glorot_normal\")\n",
    "glorot_model.compile(loss='categorical_crossentropy', optimizer='sgd', metrics=['accuracy'])\n",
    "glorot_model.fit(X_train, Y_train, batch_size=64, epochs=30, verbose=1, validation_data=(X_test, Y_test))"
   ]
  }
 ],
 "metadata": {
  "kernelspec": {
   "display_name": "Python 3",
   "language": "python",
   "name": "python3"
  },
  "language_info": {
   "codemirror_mode": {
    "name": "ipython",
    "version": 3
   },
   "file_extension": ".py",
   "mimetype": "text/x-python",
   "name": "python",
   "nbconvert_exporter": "python",
   "pygments_lexer": "ipython3",
   "version": "3.6.4"
  }
 },
 "nbformat": 4,
 "nbformat_minor": 2
}
